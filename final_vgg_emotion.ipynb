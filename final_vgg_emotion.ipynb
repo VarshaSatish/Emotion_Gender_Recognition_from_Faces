{
  "nbformat": 4,
  "nbformat_minor": 0,
  "metadata": {
    "colab": {
      "name": "final_vgg_emotion.ipynb",
      "provenance": [],
      "collapsed_sections": []
    },
    "kernelspec": {
      "display_name": "Python 3",
      "language": "python",
      "name": "python3"
    },
    "language_info": {
      "codemirror_mode": {
        "name": "ipython",
        "version": 3
      },
      "file_extension": ".py",
      "mimetype": "text/x-python",
      "name": "python",
      "nbconvert_exporter": "python",
      "pygments_lexer": "ipython3",
      "version": "3.7.7"
    }
  },
  "cells": [
    {
      "cell_type": "code",
      "metadata": {
        "id": "f9a-jVrPlnv8",
        "colab": {
          "base_uri": "https://localhost:8080/",
          "height": 35
        },
        "outputId": "9ca7b325-f81b-4315-fd99-b09046e4db0d"
      },
      "source": [
        "## mount drive to work with data and colab notebook ib our drive\n",
        "from google.colab import drive\n",
        "drive.mount('/content/gdrive')"
      ],
      "execution_count": null,
      "outputs": [
        {
          "output_type": "stream",
          "text": [
            "Mounted at /content/gdrive\n"
          ],
          "name": "stdout"
        }
      ]
    },
    {
      "cell_type": "code",
      "metadata": {
        "id": "FftWbQKgF5PR",
        "colab": {
          "base_uri": "https://localhost:8080/",
          "height": 73
        },
        "outputId": "f8eddbf5-702f-4643-e2cd-0e3085797aeb"
      },
      "source": [
        "## making our drive our working current directory\n",
        "import os\n",
        "%cd /content/gdrive/My\\ Drive/\n",
        "print(os.listdir(\"../My Drive\"))"
      ],
      "execution_count": null,
      "outputs": [
        {
          "output_type": "stream",
          "text": [
            "/content/gdrive/My Drive\n",
            "['Getting started.pdf', 'dashcam_boston.mp4', 'Colab Notebooks', 'logs', '82373_191501_bundle_archive.zip', 'AI Based Project ideas.gdoc', '06-Deep-Learning-Computer-Vision', 'road_trip.mp4', 'AVNET-ai-at-the-edge-whitepaper.pdf', '786787_1351797_bundle_archive.zip', 'history_before.png', 'model_before_accuracy.png', 'model_before_loss.png', 'Emailing 5_6291823636315636034.pdf', 'emotion detection', 'transfer_learning_project', 'traffic_sign_classification', 'model.h5', 'plot.png']\n"
          ],
          "name": "stdout"
        }
      ]
    },
    {
      "cell_type": "code",
      "metadata": {
        "id": "KiFAqCNj3U0k"
      },
      "source": [
        "import numpy as np\n",
        "import pandas as pd\n",
        "import tensorflow as tf\n",
        "from keras import backend as K\n",
        "from keras.applications.vgg16 import VGG16\n",
        "from keras.layers import Dense, Dropout, Input\n",
        "from keras.models import Model\n",
        "from keras.models import Sequential\n",
        "from keras.optimizers import Adamax\n",
        "from keras.utils import np_utils\n",
        "from tensorflow.python.saved_model import builder as saved_model_builder\n",
        "from tensorflow.python.saved_model import utils\n",
        "from tensorflow.python.saved_model import tag_constants, signature_constants\n",
        "from tensorflow.python.saved_model.signature_def_utils_impl import build_signature_def, predict_signature_def\n",
        "from keras.preprocessing import image\n",
        "from keras.callbacks import ModelCheckpoint\n"
      ],
      "execution_count": null,
      "outputs": []
    },
    {
      "cell_type": "code",
      "metadata": {
        "id": "v33Hd3pK3nyT"
      },
      "source": [
        "import argparse\n",
        "import matplotlib.pyplot as plt\n",
        "import cv2\n",
        "from tensorflow.keras.models import Sequential\n",
        "from tensorflow.keras.layers import Dense, Dropout, Flatten\n",
        "from tensorflow.keras.layers import Conv2D\n",
        "from tensorflow.keras.optimizers import Adam\n",
        "from tensorflow.keras.optimizers import SGD\n",
        "from tensorflow.keras.layers import MaxPooling2D\n",
        "from tensorflow.keras.preprocessing.image import ImageDataGenerator\n",
        "import os"
      ],
      "execution_count": null,
      "outputs": []
    },
    {
      "cell_type": "code",
      "metadata": {
        "id": "5aaOW0aHZRid"
      },
      "source": [
        "import pandas as pd\n",
        "import numpy as np\n",
        "from keras.models import Sequential\n",
        "from keras.layers.core import Flatten, Dense, Dropout\n",
        "from keras.layers.convolutional import Convolution2D, MaxPooling2D, ZeroPadding2D\n",
        "from keras.optimizers import SGD\n",
        "import cv2"
      ],
      "execution_count": null,
      "outputs": []
    },
    {
      "cell_type": "code",
      "metadata": {
        "id": "vEQcEXQbKNT5"
      },
      "source": [
        "train_img_path ='/content/gdrive/My Drive/emotion detection/data/train'\n",
        "val_img_path = '/content/gdrive/My Drive/emotion detection/data/test'"
      ],
      "execution_count": null,
      "outputs": []
    },
    {
      "cell_type": "code",
      "metadata": {
        "id": "m93PpptzKNWw",
        "colab": {
          "base_uri": "https://localhost:8080/",
          "height": 53
        },
        "outputId": "75285f7b-258b-4a33-fecf-6b399c5d8058"
      },
      "source": [
        "height=48\n",
        "width=48\n",
        "\n",
        "## preprocessing step\n",
        "\n",
        "train_datagen = ImageDataGenerator(\n",
        "    rescale=1./255,\n",
        "    rotation_range=40,\n",
        "    width_shift_range=0.2,\n",
        "    height_shift_range=0.2,\n",
        "    shear_range=0.2,\n",
        "    zoom_range=0.2,\n",
        "    horizontal_flip=True)\n",
        "\n",
        "# Note that the validation data should not be augmented!\n",
        "val_datagen = ImageDataGenerator(rescale=1./255)\n",
        "\n",
        "train_generator = train_datagen.flow_from_directory(\n",
        "        train_img_path, # This is the source directory for training images\n",
        "        target_size=(height, width),  # All images will be resized to 299 x 299\n",
        "        batch_size=32,\n",
        "        # Since we use categorical_crossentropy loss, we need categorical labels\n",
        "        class_mode='categorical')\n",
        "\n",
        "# Flow validation images in batches of 80 using val_datagen generator\n",
        "validation_generator = val_datagen.flow_from_directory(\n",
        "        val_img_path,\n",
        "        target_size=(height, width),\n",
        "        batch_size= 32,\n",
        "        class_mode='categorical')"
      ],
      "execution_count": null,
      "outputs": [
        {
          "output_type": "stream",
          "text": [
            "Found 28709 images belonging to 7 classes.\n",
            "Found 7178 images belonging to 7 classes.\n"
          ],
          "name": "stdout"
        }
      ]
    },
    {
      "cell_type": "code",
      "metadata": {
        "id": "5iXpOSDp3kiz",
        "colab": {
          "base_uri": "https://localhost:8080/",
          "height": 36
        },
        "outputId": "8e30c8dc-e22f-4f2c-dbd8-1a60a2e559d0"
      },
      "source": [
        "import tensorflow as tf\n",
        "tf.test.gpu_device_name()"
      ],
      "execution_count": null,
      "outputs": [
        {
          "output_type": "execute_result",
          "data": {
            "application/vnd.google.colaboratory.intrinsic+json": {
              "type": "string"
            },
            "text/plain": [
              "'/device:GPU:0'"
            ]
          },
          "metadata": {
            "tags": []
          },
          "execution_count": 8
        }
      ]
    },
    {
      "cell_type": "code",
      "metadata": {
        "id": "cDm5jmo9zjJt"
      },
      "source": [
        "# plots accuracy and loss curves\n",
        "def plot_model_history(model_history):\n",
        "    \"\"\"\n",
        "    Plot Accuracy and Loss curves given the model_history\n",
        "    \"\"\"\n",
        "    fig, axs = plt.subplots(1,2,figsize=(15,5))\n",
        "    # summarize history for accuracy\n",
        "    axs[0].plot(range(1,len(model_history.history['accuracy'])+1),model_history.history['accuracy'])\n",
        "    axs[0].plot(range(1,len(model_history.history['val_accuracy'])+1),model_history.history['val_accuracy'])\n",
        "    axs[0].set_title('Model Accuracy')\n",
        "    axs[0].set_ylabel('Accuracy')\n",
        "    axs[0].set_xlabel('Epoch')\n",
        "    axs[0].set_xticks(np.arange(1,len(model_history.history['accuracy'])+1),len(model_history.history['accuracy'])/10)\n",
        "    axs[0].legend(['train', 'val'], loc='best')\n",
        "    # summarize history for loss\n",
        "    axs[1].plot(range(1,len(model_history.history['loss'])+1),model_history.history['loss'])\n",
        "    axs[1].plot(range(1,len(model_history.history['val_loss'])+1),model_history.history['val_loss'])\n",
        "    axs[1].set_title('Model Loss')\n",
        "    axs[1].set_ylabel('Loss')\n",
        "    axs[1].set_xlabel('Epoch')\n",
        "    axs[1].set_xticks(np.arange(1,len(model_history.history['loss'])+1),len(model_history.history['loss'])/10)\n",
        "    axs[1].legend(['train', 'val'], loc='best')\n",
        "    fig.savefig('plot.png')\n",
        "    plt.show()"
      ],
      "execution_count": null,
      "outputs": []
    },
    {
      "cell_type": "code",
      "metadata": {
        "id": "52lFwEcPKNe7",
        "colab": {
          "base_uri": "https://localhost:8080/",
          "height": 73
        },
        "outputId": "83c926b0-5999-45f8-af36-658a9bc23203"
      },
      "source": [
        "# create the base pre-trained model\n",
        "\n",
        "height = 48\n",
        "width = 48\n",
        "model = vgg16 = VGG16(include_top=False, input_shape=(48, 48, 3), pooling='avg', weights='imagenet')"
      ],
      "execution_count": null,
      "outputs": [
        {
          "output_type": "stream",
          "text": [
            "Downloading data from https://storage.googleapis.com/tensorflow/keras-applications/vgg16/vgg16_weights_tf_dim_ordering_tf_kernels_notop.h5\n",
            "58892288/58889256 [==============================] - 0s 0us/step\n"
          ],
          "name": "stdout"
        }
      ]
    },
    {
      "cell_type": "code",
      "metadata": {
        "id": "Orig_dP3V6xX",
        "colab": {
          "base_uri": "https://localhost:8080/",
          "height": 889
        },
        "outputId": "0edd14ff-260c-4911-d178-6a243d9c98f9"
      },
      "source": [
        "model.summary()"
      ],
      "execution_count": null,
      "outputs": [
        {
          "output_type": "stream",
          "text": [
            "Model: \"vgg16\"\n",
            "_________________________________________________________________\n",
            "Layer (type)                 Output Shape              Param #   \n",
            "=================================================================\n",
            "input_1 (InputLayer)         [(None, 48, 48, 3)]       0         \n",
            "_________________________________________________________________\n",
            "block1_conv1 (Conv2D)        (None, 48, 48, 64)        1792      \n",
            "_________________________________________________________________\n",
            "block1_conv2 (Conv2D)        (None, 48, 48, 64)        36928     \n",
            "_________________________________________________________________\n",
            "block1_pool (MaxPooling2D)   (None, 24, 24, 64)        0         \n",
            "_________________________________________________________________\n",
            "block2_conv1 (Conv2D)        (None, 24, 24, 128)       73856     \n",
            "_________________________________________________________________\n",
            "block2_conv2 (Conv2D)        (None, 24, 24, 128)       147584    \n",
            "_________________________________________________________________\n",
            "block2_pool (MaxPooling2D)   (None, 12, 12, 128)       0         \n",
            "_________________________________________________________________\n",
            "block3_conv1 (Conv2D)        (None, 12, 12, 256)       295168    \n",
            "_________________________________________________________________\n",
            "block3_conv2 (Conv2D)        (None, 12, 12, 256)       590080    \n",
            "_________________________________________________________________\n",
            "block3_conv3 (Conv2D)        (None, 12, 12, 256)       590080    \n",
            "_________________________________________________________________\n",
            "block3_pool (MaxPooling2D)   (None, 6, 6, 256)         0         \n",
            "_________________________________________________________________\n",
            "block4_conv1 (Conv2D)        (None, 6, 6, 512)         1180160   \n",
            "_________________________________________________________________\n",
            "block4_conv2 (Conv2D)        (None, 6, 6, 512)         2359808   \n",
            "_________________________________________________________________\n",
            "block4_conv3 (Conv2D)        (None, 6, 6, 512)         2359808   \n",
            "_________________________________________________________________\n",
            "block4_pool (MaxPooling2D)   (None, 3, 3, 512)         0         \n",
            "_________________________________________________________________\n",
            "block5_conv1 (Conv2D)        (None, 3, 3, 512)         2359808   \n",
            "_________________________________________________________________\n",
            "block5_conv2 (Conv2D)        (None, 3, 3, 512)         2359808   \n",
            "_________________________________________________________________\n",
            "block5_conv3 (Conv2D)        (None, 3, 3, 512)         2359808   \n",
            "_________________________________________________________________\n",
            "block5_pool (MaxPooling2D)   (None, 1, 1, 512)         0         \n",
            "_________________________________________________________________\n",
            "global_average_pooling2d (Gl (None, 512)               0         \n",
            "=================================================================\n",
            "Total params: 14,714,688\n",
            "Trainable params: 14,714,688\n",
            "Non-trainable params: 0\n",
            "_________________________________________________________________\n"
          ],
          "name": "stdout"
        }
      ]
    },
    {
      "cell_type": "code",
      "metadata": {
        "id": "y_4uaoe5zNb6"
      },
      "source": [
        "for layer in model.layers:\n",
        "         layer.trainable = True"
      ],
      "execution_count": null,
      "outputs": []
    },
    {
      "cell_type": "code",
      "metadata": {
        "id": "ZM4uvqQGzIdC"
      },
      "source": [
        "fit_epochs = 80\n",
        "\n",
        "batch_size = 32"
      ],
      "execution_count": null,
      "outputs": []
    },
    {
      "cell_type": "code",
      "metadata": {
        "id": "4kRvvBHezIiK"
      },
      "source": [
        "flat1 = Flatten()(model.layers[-1].output)\n",
        "class1 = Dense(1024, activation='relu')(flat1)\n",
        "class1=Dropout(0.5)(class1)\n",
        "class1 = Dense(1024, activation='relu')(class1)\n",
        "output = Dense(7, activation='softmax')(class1)\n",
        "# define new model\n",
        "model = Model(inputs=model.inputs, outputs=output)"
      ],
      "execution_count": null,
      "outputs": []
    },
    {
      "cell_type": "code",
      "metadata": {
        "id": "A5Phl8QQaw5s",
        "colab": {
          "base_uri": "https://localhost:8080/",
          "height": 1000
        },
        "outputId": "ebfb09e8-011c-485c-f71f-08f94f040c52"
      },
      "source": [
        "model.summary()"
      ],
      "execution_count": null,
      "outputs": [
        {
          "output_type": "stream",
          "text": [
            "Model: \"functional_1\"\n",
            "_________________________________________________________________\n",
            "Layer (type)                 Output Shape              Param #   \n",
            "=================================================================\n",
            "input_1 (InputLayer)         [(None, 48, 48, 3)]       0         \n",
            "_________________________________________________________________\n",
            "block1_conv1 (Conv2D)        (None, 48, 48, 64)        1792      \n",
            "_________________________________________________________________\n",
            "block1_conv2 (Conv2D)        (None, 48, 48, 64)        36928     \n",
            "_________________________________________________________________\n",
            "block1_pool (MaxPooling2D)   (None, 24, 24, 64)        0         \n",
            "_________________________________________________________________\n",
            "block2_conv1 (Conv2D)        (None, 24, 24, 128)       73856     \n",
            "_________________________________________________________________\n",
            "block2_conv2 (Conv2D)        (None, 24, 24, 128)       147584    \n",
            "_________________________________________________________________\n",
            "block2_pool (MaxPooling2D)   (None, 12, 12, 128)       0         \n",
            "_________________________________________________________________\n",
            "block3_conv1 (Conv2D)        (None, 12, 12, 256)       295168    \n",
            "_________________________________________________________________\n",
            "block3_conv2 (Conv2D)        (None, 12, 12, 256)       590080    \n",
            "_________________________________________________________________\n",
            "block3_conv3 (Conv2D)        (None, 12, 12, 256)       590080    \n",
            "_________________________________________________________________\n",
            "block3_pool (MaxPooling2D)   (None, 6, 6, 256)         0         \n",
            "_________________________________________________________________\n",
            "block4_conv1 (Conv2D)        (None, 6, 6, 512)         1180160   \n",
            "_________________________________________________________________\n",
            "block4_conv2 (Conv2D)        (None, 6, 6, 512)         2359808   \n",
            "_________________________________________________________________\n",
            "block4_conv3 (Conv2D)        (None, 6, 6, 512)         2359808   \n",
            "_________________________________________________________________\n",
            "block4_pool (MaxPooling2D)   (None, 3, 3, 512)         0         \n",
            "_________________________________________________________________\n",
            "block5_conv1 (Conv2D)        (None, 3, 3, 512)         2359808   \n",
            "_________________________________________________________________\n",
            "block5_conv2 (Conv2D)        (None, 3, 3, 512)         2359808   \n",
            "_________________________________________________________________\n",
            "block5_conv3 (Conv2D)        (None, 3, 3, 512)         2359808   \n",
            "_________________________________________________________________\n",
            "block5_pool (MaxPooling2D)   (None, 1, 1, 512)         0         \n",
            "_________________________________________________________________\n",
            "global_average_pooling2d (Gl (None, 512)               0         \n",
            "_________________________________________________________________\n",
            "flatten (Flatten)            (None, 512)               0         \n",
            "_________________________________________________________________\n",
            "dense (Dense)                (None, 1024)              525312    \n",
            "_________________________________________________________________\n",
            "dropout (Dropout)            (None, 1024)              0         \n",
            "_________________________________________________________________\n",
            "dense_1 (Dense)              (None, 1024)              1049600   \n",
            "_________________________________________________________________\n",
            "dense_2 (Dense)              (None, 7)                 7175      \n",
            "=================================================================\n",
            "Total params: 16,296,775\n",
            "Trainable params: 16,296,775\n",
            "Non-trainable params: 0\n",
            "_________________________________________________________________\n"
          ],
          "name": "stdout"
        }
      ]
    },
    {
      "cell_type": "markdown",
      "metadata": {
        "id": "xL_TRwak3nb1"
      },
      "source": [
        ""
      ]
    },
    {
      "cell_type": "code",
      "metadata": {
        "id": "omY7PLKA54O4"
      },
      "source": [
        "num_train=28709\n",
        "num_val=7178"
      ],
      "execution_count": null,
      "outputs": []
    },
    {
      "cell_type": "code",
      "metadata": {
        "id": "08fKYKAGzi_B"
      },
      "source": [
        "model.compile(loss='categorical_crossentropy',optimizer= 'sgd',metrics=['accuracy'])"
      ],
      "execution_count": null,
      "outputs": []
    },
    {
      "cell_type": "code",
      "metadata": {
        "id": "o3yVsIDILBdY"
      },
      "source": [
        "\n",
        "ckpt_callback = ModelCheckpoint(filepath='/content/gdrive/My Drive/emotion detection/models.h5', monitor='val_loss')\n",
        "\n",
        "callback = [ckpt_callback]\n",
        "\n"
      ],
      "execution_count": null,
      "outputs": []
    },
    {
      "cell_type": "code",
      "metadata": {
        "id": "40cR0Q-qWjV9",
        "colab": {
          "base_uri": "https://localhost:8080/",
          "height": 1000
        },
        "outputId": "e25e949c-6fd9-4431-95f2-e601be4d1c66"
      },
      "source": [
        "model_info = model.fit(\n",
        "            train_generator,\n",
        "            steps_per_epoch=num_train // 32,\n",
        "            epochs=fit_epochs,\n",
        "            validation_data=validation_generator,\n",
        "            validation_steps=num_val // 32,\n",
        "            callbacks=callback)\n",
        "plot_model_history(model_info)\n",
        "model.save_weights('model.h5')"
      ],
      "execution_count": null,
      "outputs": [
        {
          "output_type": "stream",
          "text": [
            "Epoch 1/80\n",
            "897/897 [==============================] - 7731s 9s/step - loss: 1.6433 - accuracy: 0.3428 - val_loss: 1.3526 - val_accuracy: 0.4812\n",
            "Epoch 2/80\n",
            "897/897 [==============================] - 81s 91ms/step - loss: 1.4268 - accuracy: 0.4481 - val_loss: 1.2820 - val_accuracy: 0.5116\n",
            "Epoch 3/80\n",
            "897/897 [==============================] - 79s 88ms/step - loss: 1.3300 - accuracy: 0.4907 - val_loss: 1.2273 - val_accuracy: 0.5290\n",
            "Epoch 4/80\n",
            "897/897 [==============================] - 77s 86ms/step - loss: 1.2663 - accuracy: 0.5166 - val_loss: 1.1832 - val_accuracy: 0.5456\n",
            "Epoch 5/80\n",
            "897/897 [==============================] - 77s 86ms/step - loss: 1.2217 - accuracy: 0.5357 - val_loss: 1.1265 - val_accuracy: 0.5718\n",
            "Epoch 6/80\n",
            "897/897 [==============================] - 77s 86ms/step - loss: 1.1871 - accuracy: 0.5538 - val_loss: 1.1014 - val_accuracy: 0.5774\n",
            "Epoch 7/80\n",
            "897/897 [==============================] - 77s 86ms/step - loss: 1.1521 - accuracy: 0.5669 - val_loss: 1.0925 - val_accuracy: 0.5823\n",
            "Epoch 8/80\n",
            "897/897 [==============================] - 77s 86ms/step - loss: 1.1329 - accuracy: 0.5719 - val_loss: 1.0690 - val_accuracy: 0.5903\n",
            "Epoch 9/80\n",
            "897/897 [==============================] - 76s 84ms/step - loss: 1.1085 - accuracy: 0.5816 - val_loss: 1.0726 - val_accuracy: 0.5951\n",
            "Epoch 10/80\n",
            "897/897 [==============================] - 76s 85ms/step - loss: 1.0909 - accuracy: 0.5913 - val_loss: 1.0573 - val_accuracy: 0.5950\n",
            "Epoch 11/80\n",
            "897/897 [==============================] - 77s 86ms/step - loss: 1.0722 - accuracy: 0.5973 - val_loss: 1.0350 - val_accuracy: 0.6091\n",
            "Epoch 12/80\n",
            "897/897 [==============================] - 77s 85ms/step - loss: 1.0505 - accuracy: 0.6050 - val_loss: 1.1035 - val_accuracy: 0.5992\n",
            "Epoch 13/80\n",
            "897/897 [==============================] - 77s 86ms/step - loss: 1.0356 - accuracy: 0.6102 - val_loss: 1.0054 - val_accuracy: 0.6207\n",
            "Epoch 14/80\n",
            "897/897 [==============================] - 77s 86ms/step - loss: 1.0192 - accuracy: 0.6153 - val_loss: 1.0373 - val_accuracy: 0.6119\n",
            "Epoch 15/80\n",
            "897/897 [==============================] - 77s 85ms/step - loss: 1.0065 - accuracy: 0.6212 - val_loss: 1.0507 - val_accuracy: 0.6074\n",
            "Epoch 16/80\n",
            "897/897 [==============================] - 78s 87ms/step - loss: 0.9985 - accuracy: 0.6255 - val_loss: 1.0060 - val_accuracy: 0.6233\n",
            "Epoch 17/80\n",
            "897/897 [==============================] - 76s 85ms/step - loss: 0.9874 - accuracy: 0.6309 - val_loss: 0.9992 - val_accuracy: 0.6282\n",
            "Epoch 18/80\n",
            "897/897 [==============================] - 76s 85ms/step - loss: 0.9730 - accuracy: 0.6334 - val_loss: 0.9767 - val_accuracy: 0.6377\n",
            "Epoch 19/80\n",
            "897/897 [==============================] - 76s 85ms/step - loss: 0.9585 - accuracy: 0.6422 - val_loss: 0.9644 - val_accuracy: 0.6363\n",
            "Epoch 20/80\n",
            "897/897 [==============================] - 78s 87ms/step - loss: 0.9541 - accuracy: 0.6447 - val_loss: 1.0434 - val_accuracy: 0.6184\n",
            "Epoch 21/80\n",
            "897/897 [==============================] - 78s 87ms/step - loss: 0.9349 - accuracy: 0.6513 - val_loss: 0.9798 - val_accuracy: 0.6355\n",
            "Epoch 22/80\n",
            "897/897 [==============================] - 78s 86ms/step - loss: 0.9282 - accuracy: 0.6526 - val_loss: 0.9615 - val_accuracy: 0.6381\n",
            "Epoch 23/80\n",
            "897/897 [==============================] - 77s 86ms/step - loss: 0.9198 - accuracy: 0.6573 - val_loss: 0.9880 - val_accuracy: 0.6380\n",
            "Epoch 24/80\n",
            "897/897 [==============================] - 78s 86ms/step - loss: 0.9110 - accuracy: 0.6605 - val_loss: 0.9997 - val_accuracy: 0.6357\n",
            "Epoch 25/80\n",
            "897/897 [==============================] - 76s 85ms/step - loss: 0.8997 - accuracy: 0.6654 - val_loss: 0.9617 - val_accuracy: 0.6420\n",
            "Epoch 26/80\n",
            "897/897 [==============================] - 77s 85ms/step - loss: 0.8889 - accuracy: 0.6671 - val_loss: 0.9393 - val_accuracy: 0.6519\n",
            "Epoch 27/80\n",
            "897/897 [==============================] - 76s 85ms/step - loss: 0.8785 - accuracy: 0.6737 - val_loss: 0.9201 - val_accuracy: 0.6617\n",
            "Epoch 28/80\n",
            "897/897 [==============================] - 77s 86ms/step - loss: 0.8681 - accuracy: 0.6753 - val_loss: 0.9434 - val_accuracy: 0.6556\n",
            "Epoch 29/80\n",
            "897/897 [==============================] - 76s 85ms/step - loss: 0.8637 - accuracy: 0.6769 - val_loss: 0.9377 - val_accuracy: 0.6535\n",
            "Epoch 30/80\n",
            "897/897 [==============================] - 76s 85ms/step - loss: 0.8514 - accuracy: 0.6819 - val_loss: 0.9693 - val_accuracy: 0.6496\n",
            "Epoch 31/80\n",
            "897/897 [==============================] - 77s 85ms/step - loss: 0.8415 - accuracy: 0.6866 - val_loss: 0.9211 - val_accuracy: 0.6620\n",
            "Epoch 32/80\n",
            "897/897 [==============================] - 77s 85ms/step - loss: 0.8284 - accuracy: 0.6930 - val_loss: 0.9258 - val_accuracy: 0.6616\n",
            "Epoch 33/80\n",
            "897/897 [==============================] - 76s 85ms/step - loss: 0.8250 - accuracy: 0.6968 - val_loss: 0.9687 - val_accuracy: 0.6456\n",
            "Epoch 34/80\n",
            "897/897 [==============================] - 76s 85ms/step - loss: 0.8112 - accuracy: 0.6960 - val_loss: 0.9739 - val_accuracy: 0.6501\n",
            "Epoch 35/80\n",
            "897/897 [==============================] - 76s 85ms/step - loss: 0.8074 - accuracy: 0.6994 - val_loss: 1.0069 - val_accuracy: 0.6443\n",
            "Epoch 36/80\n",
            "897/897 [==============================] - 78s 86ms/step - loss: 0.7926 - accuracy: 0.7032 - val_loss: 0.9684 - val_accuracy: 0.6508\n",
            "Epoch 37/80\n",
            "897/897 [==============================] - 76s 85ms/step - loss: 0.7860 - accuracy: 0.7091 - val_loss: 0.9370 - val_accuracy: 0.6621\n",
            "Epoch 38/80\n",
            "897/897 [==============================] - 76s 85ms/step - loss: 0.7811 - accuracy: 0.7094 - val_loss: 0.9403 - val_accuracy: 0.6635\n",
            "Epoch 39/80\n",
            "897/897 [==============================] - 77s 85ms/step - loss: 0.7672 - accuracy: 0.7170 - val_loss: 0.9658 - val_accuracy: 0.6551\n",
            "Epoch 40/80\n",
            "897/897 [==============================] - 77s 86ms/step - loss: 0.7626 - accuracy: 0.7165 - val_loss: 0.9448 - val_accuracy: 0.6604\n",
            "Epoch 41/80\n",
            "897/897 [==============================] - 76s 85ms/step - loss: 0.7501 - accuracy: 0.7231 - val_loss: 0.9519 - val_accuracy: 0.6639\n",
            "Epoch 42/80\n",
            "897/897 [==============================] - 76s 85ms/step - loss: 0.7433 - accuracy: 0.7250 - val_loss: 0.9463 - val_accuracy: 0.6685\n",
            "Epoch 43/80\n",
            "897/897 [==============================] - 76s 85ms/step - loss: 0.7319 - accuracy: 0.7277 - val_loss: 0.9519 - val_accuracy: 0.6660\n",
            "Epoch 44/80\n",
            "897/897 [==============================] - 78s 87ms/step - loss: 0.7180 - accuracy: 0.7353 - val_loss: 0.9906 - val_accuracy: 0.6688\n",
            "Epoch 45/80\n",
            "897/897 [==============================] - 76s 85ms/step - loss: 0.7099 - accuracy: 0.7335 - val_loss: 0.9460 - val_accuracy: 0.6737\n",
            "Epoch 46/80\n",
            "897/897 [==============================] - 75s 84ms/step - loss: 0.7066 - accuracy: 0.7396 - val_loss: 0.9734 - val_accuracy: 0.6641\n",
            "Epoch 47/80\n",
            "897/897 [==============================] - 76s 84ms/step - loss: 0.6944 - accuracy: 0.7435 - val_loss: 0.9703 - val_accuracy: 0.6734\n",
            "Epoch 48/80\n",
            "897/897 [==============================] - 76s 85ms/step - loss: 0.6839 - accuracy: 0.7471 - val_loss: 0.9971 - val_accuracy: 0.6628\n",
            "Epoch 49/80\n",
            "897/897 [==============================] - 76s 85ms/step - loss: 0.6788 - accuracy: 0.7471 - val_loss: 0.9947 - val_accuracy: 0.6666\n",
            "Epoch 50/80\n",
            "897/897 [==============================] - 76s 84ms/step - loss: 0.6700 - accuracy: 0.7538 - val_loss: 1.0317 - val_accuracy: 0.6505\n",
            "Epoch 51/80\n",
            "897/897 [==============================] - 76s 85ms/step - loss: 0.6608 - accuracy: 0.7560 - val_loss: 1.0499 - val_accuracy: 0.6550\n",
            "Epoch 52/80\n",
            "897/897 [==============================] - 76s 85ms/step - loss: 0.6600 - accuracy: 0.7566 - val_loss: 0.9822 - val_accuracy: 0.6685\n",
            "Epoch 53/80\n",
            "897/897 [==============================] - 76s 85ms/step - loss: 0.6462 - accuracy: 0.7614 - val_loss: 1.0064 - val_accuracy: 0.6604\n",
            "Epoch 54/80\n",
            "897/897 [==============================] - 76s 85ms/step - loss: 0.6414 - accuracy: 0.7620 - val_loss: 0.9992 - val_accuracy: 0.6636\n",
            "Epoch 55/80\n",
            "897/897 [==============================] - 76s 84ms/step - loss: 0.6230 - accuracy: 0.7722 - val_loss: 0.9901 - val_accuracy: 0.6717\n",
            "Epoch 56/80\n",
            "897/897 [==============================] - 76s 85ms/step - loss: 0.6161 - accuracy: 0.7729 - val_loss: 1.1267 - val_accuracy: 0.6454\n",
            "Epoch 57/80\n",
            "897/897 [==============================] - 77s 86ms/step - loss: 0.6048 - accuracy: 0.7784 - val_loss: 1.0117 - val_accuracy: 0.6710\n",
            "Epoch 58/80\n",
            "897/897 [==============================] - 76s 85ms/step - loss: 0.5979 - accuracy: 0.7814 - val_loss: 1.0211 - val_accuracy: 0.6734\n",
            "Epoch 59/80\n",
            "897/897 [==============================] - 76s 84ms/step - loss: 0.5997 - accuracy: 0.7798 - val_loss: 1.0684 - val_accuracy: 0.6662\n",
            "Epoch 60/80\n",
            "897/897 [==============================] - 76s 84ms/step - loss: 0.5806 - accuracy: 0.7880 - val_loss: 1.0363 - val_accuracy: 0.6604\n",
            "Epoch 61/80\n",
            "897/897 [==============================] - 77s 85ms/step - loss: 0.5785 - accuracy: 0.7863 - val_loss: 1.0339 - val_accuracy: 0.6602\n",
            "Epoch 62/80\n",
            "897/897 [==============================] - 76s 85ms/step - loss: 0.5677 - accuracy: 0.7891 - val_loss: 1.0422 - val_accuracy: 0.6645\n",
            "Epoch 63/80\n",
            "897/897 [==============================] - 76s 85ms/step - loss: 0.5609 - accuracy: 0.7934 - val_loss: 1.0860 - val_accuracy: 0.6657\n",
            "Epoch 64/80\n",
            "897/897 [==============================] - 76s 85ms/step - loss: 0.5543 - accuracy: 0.7949 - val_loss: 1.0860 - val_accuracy: 0.6652\n",
            "Epoch 65/80\n",
            "897/897 [==============================] - 77s 86ms/step - loss: 0.5492 - accuracy: 0.7987 - val_loss: 1.1026 - val_accuracy: 0.6659\n",
            "Epoch 66/80\n",
            "897/897 [==============================] - 76s 84ms/step - loss: 0.5353 - accuracy: 0.8034 - val_loss: 1.0770 - val_accuracy: 0.6692\n",
            "Epoch 67/80\n",
            "897/897 [==============================] - 76s 85ms/step - loss: 0.5299 - accuracy: 0.8049 - val_loss: 1.1026 - val_accuracy: 0.6756\n",
            "Epoch 68/80\n",
            "897/897 [==============================] - 76s 84ms/step - loss: 0.5271 - accuracy: 0.8060 - val_loss: 1.1134 - val_accuracy: 0.6579\n",
            "Epoch 69/80\n",
            "897/897 [==============================] - 76s 84ms/step - loss: 0.5044 - accuracy: 0.8134 - val_loss: 1.0688 - val_accuracy: 0.6723\n",
            "Epoch 70/80\n",
            "897/897 [==============================] - 75s 84ms/step - loss: 0.5093 - accuracy: 0.8130 - val_loss: 1.0890 - val_accuracy: 0.6708\n",
            "Epoch 71/80\n",
            "897/897 [==============================] - 75s 84ms/step - loss: 0.5032 - accuracy: 0.8171 - val_loss: 1.0804 - val_accuracy: 0.6773\n",
            "Epoch 72/80\n",
            "897/897 [==============================] - 76s 84ms/step - loss: 0.4910 - accuracy: 0.8190 - val_loss: 1.1315 - val_accuracy: 0.6659\n",
            "Epoch 73/80\n",
            "897/897 [==============================] - 77s 86ms/step - loss: 0.4752 - accuracy: 0.8271 - val_loss: 1.1490 - val_accuracy: 0.6723\n",
            "Epoch 74/80\n",
            "897/897 [==============================] - 76s 84ms/step - loss: 0.4821 - accuracy: 0.8242 - val_loss: 1.0845 - val_accuracy: 0.6791\n",
            "Epoch 75/80\n",
            "897/897 [==============================] - 76s 85ms/step - loss: 0.4720 - accuracy: 0.8260 - val_loss: 1.1848 - val_accuracy: 0.6564\n",
            "Epoch 76/80\n",
            "897/897 [==============================] - 76s 85ms/step - loss: 0.4599 - accuracy: 0.8328 - val_loss: 1.1413 - val_accuracy: 0.6768\n",
            "Epoch 77/80\n",
            "897/897 [==============================] - 77s 85ms/step - loss: 0.4545 - accuracy: 0.8324 - val_loss: 1.1582 - val_accuracy: 0.6782\n",
            "Epoch 78/80\n",
            "897/897 [==============================] - 76s 85ms/step - loss: 0.4459 - accuracy: 0.8381 - val_loss: 1.2123 - val_accuracy: 0.6631\n",
            "Epoch 79/80\n",
            "897/897 [==============================] - 76s 85ms/step - loss: 0.4424 - accuracy: 0.8394 - val_loss: 1.2140 - val_accuracy: 0.6650\n",
            "Epoch 80/80\n",
            "897/897 [==============================] - 76s 85ms/step - loss: 0.4342 - accuracy: 0.8396 - val_loss: 1.1923 - val_accuracy: 0.6716\n"
          ],
          "name": "stdout"
        },
        {
          "output_type": "stream",
          "text": [
            "/usr/local/lib/python3.6/dist-packages/ipykernel_launcher.py:13: MatplotlibDeprecationWarning: Passing the minor parameter of set_xticks() positionally is deprecated since Matplotlib 3.2; the parameter will become keyword-only two minor releases later.\n",
            "  del sys.path[0]\n",
            "/usr/local/lib/python3.6/dist-packages/ipykernel_launcher.py:21: MatplotlibDeprecationWarning: Passing the minor parameter of set_xticks() positionally is deprecated since Matplotlib 3.2; the parameter will become keyword-only two minor releases later.\n"
          ],
          "name": "stderr"
        },
        {
          "output_type": "display_data",
          "data": {
            "image/png": "[encoded data removed]",
            "text/plain": [
              "<Figure size 1080x360 with 2 Axes>"
            ]
          },
          "metadata": {
            "tags": [],
            "needs_background": "light"
          }
        }
      ]
    },
    {
      "cell_type": "code",
      "metadata": {
        "id": "hMLq1GYSxbY_",
        "colab": {
          "base_uri": "https://localhost:8080/",
          "height": 35
        },
        "outputId": "1a479492-3f5c-4bdd-d45c-d8b641d3e1b0"
      },
      "source": [
        "model.metrics_names"
      ],
      "execution_count": null,
      "outputs": [
        {
          "output_type": "execute_result",
          "data": {
            "text/plain": [
              "['loss', 'accuracy']"
            ]
          },
          "metadata": {
            "tags": []
          },
          "execution_count": 25
        }
      ]
    },
    {
      "cell_type": "code",
      "metadata": {
        "id": "RlN0cpiexfJG",
        "colab": {
          "base_uri": "https://localhost:8080/",
          "height": 36
        },
        "outputId": "f07b7a5d-eccc-4231-c9f1-0e08959c4765"
      },
      "source": [
        "model.name"
      ],
      "execution_count": null,
      "outputs": [
        {
          "output_type": "execute_result",
          "data": {
            "application/vnd.google.colaboratory.intrinsic+json": {
              "type": "string"
            },
            "text/plain": [
              "'functional_1'"
            ]
          },
          "metadata": {
            "tags": []
          },
          "execution_count": 26
        }
      ]
    },
    {
      "cell_type": "code",
      "metadata": {
        "id": "x1FHOvgPxqmN",
        "colab": {
          "base_uri": "https://localhost:8080/",
          "height": 1000
        },
        "outputId": "cc78ffa9-2192-4ff2-b25f-673174a15cbd"
      },
      "source": [
        "model.summary()"
      ],
      "execution_count": null,
      "outputs": [
        {
          "output_type": "stream",
          "text": [
            "Model: \"functional_1\"\n",
            "_________________________________________________________________\n",
            "Layer (type)                 Output Shape              Param #   \n",
            "=================================================================\n",
            "input_1 (InputLayer)         [(None, 48, 48, 3)]       0         \n",
            "_________________________________________________________________\n",
            "block1_conv1 (Conv2D)        (None, 48, 48, 64)        1792      \n",
            "_________________________________________________________________\n",
            "block1_conv2 (Conv2D)        (None, 48, 48, 64)        36928     \n",
            "_________________________________________________________________\n",
            "block1_pool (MaxPooling2D)   (None, 24, 24, 64)        0         \n",
            "_________________________________________________________________\n",
            "block2_conv1 (Conv2D)        (None, 24, 24, 128)       73856     \n",
            "_________________________________________________________________\n",
            "block2_conv2 (Conv2D)        (None, 24, 24, 128)       147584    \n",
            "_________________________________________________________________\n",
            "block2_pool (MaxPooling2D)   (None, 12, 12, 128)       0         \n",
            "_________________________________________________________________\n",
            "block3_conv1 (Conv2D)        (None, 12, 12, 256)       295168    \n",
            "_________________________________________________________________\n",
            "block3_conv2 (Conv2D)        (None, 12, 12, 256)       590080    \n",
            "_________________________________________________________________\n",
            "block3_conv3 (Conv2D)        (None, 12, 12, 256)       590080    \n",
            "_________________________________________________________________\n",
            "block3_pool (MaxPooling2D)   (None, 6, 6, 256)         0         \n",
            "_________________________________________________________________\n",
            "block4_conv1 (Conv2D)        (None, 6, 6, 512)         1180160   \n",
            "_________________________________________________________________\n",
            "block4_conv2 (Conv2D)        (None, 6, 6, 512)         2359808   \n",
            "_________________________________________________________________\n",
            "block4_conv3 (Conv2D)        (None, 6, 6, 512)         2359808   \n",
            "_________________________________________________________________\n",
            "block4_pool (MaxPooling2D)   (None, 3, 3, 512)         0         \n",
            "_________________________________________________________________\n",
            "block5_conv1 (Conv2D)        (None, 3, 3, 512)         2359808   \n",
            "_________________________________________________________________\n",
            "block5_conv2 (Conv2D)        (None, 3, 3, 512)         2359808   \n",
            "_________________________________________________________________\n",
            "block5_conv3 (Conv2D)        (None, 3, 3, 512)         2359808   \n",
            "_________________________________________________________________\n",
            "block5_pool (MaxPooling2D)   (None, 1, 1, 512)         0         \n",
            "_________________________________________________________________\n",
            "global_average_pooling2d (Gl (None, 512)               0         \n",
            "_________________________________________________________________\n",
            "flatten (Flatten)            (None, 512)               0         \n",
            "_________________________________________________________________\n",
            "dense (Dense)                (None, 1024)              525312    \n",
            "_________________________________________________________________\n",
            "dropout (Dropout)            (None, 1024)              0         \n",
            "_________________________________________________________________\n",
            "dense_1 (Dense)              (None, 1024)              1049600   \n",
            "_________________________________________________________________\n",
            "dense_2 (Dense)              (None, 7)                 7175      \n",
            "=================================================================\n",
            "Total params: 16,296,775\n",
            "Trainable params: 16,296,775\n",
            "Non-trainable params: 0\n",
            "_________________________________________________________________\n"
          ],
          "name": "stdout"
        }
      ]
    },
    {
      "cell_type": "code",
      "metadata": {
        "id": "Gv_rfgJZxxbr"
      },
      "source": [
        "from tensorflow.keras.models import load_model"
      ],
      "execution_count": null,
      "outputs": []
    },
    {
      "cell_type": "code",
      "metadata": {
        "id": "-e1YvGzwyzF5"
      },
      "source": [
        "model=load_model('/content/gdrive/My Drive/emotion detection/models.h5')"
      ],
      "execution_count": null,
      "outputs": []
    },
    {
      "cell_type": "code",
      "metadata": {
        "id": "gnuUibQ3y7h4",
        "colab": {
          "base_uri": "https://localhost:8080/",
          "height": 1000
        },
        "outputId": "0f909ac9-fb0c-4e94-a78c-4f2d15c2eb91"
      },
      "source": [
        "model.summary()"
      ],
      "execution_count": null,
      "outputs": [
        {
          "output_type": "stream",
          "text": [
            "Model: \"functional_1\"\n",
            "_________________________________________________________________\n",
            "Layer (type)                 Output Shape              Param #   \n",
            "=================================================================\n",
            "input_1 (InputLayer)         [(None, 48, 48, 3)]       0         \n",
            "_________________________________________________________________\n",
            "block1_conv1 (Conv2D)        (None, 48, 48, 64)        1792      \n",
            "_________________________________________________________________\n",
            "block1_conv2 (Conv2D)        (None, 48, 48, 64)        36928     \n",
            "_________________________________________________________________\n",
            "block1_pool (MaxPooling2D)   (None, 24, 24, 64)        0         \n",
            "_________________________________________________________________\n",
            "block2_conv1 (Conv2D)        (None, 24, 24, 128)       73856     \n",
            "_________________________________________________________________\n",
            "block2_conv2 (Conv2D)        (None, 24, 24, 128)       147584    \n",
            "_________________________________________________________________\n",
            "block2_pool (MaxPooling2D)   (None, 12, 12, 128)       0         \n",
            "_________________________________________________________________\n",
            "block3_conv1 (Conv2D)        (None, 12, 12, 256)       295168    \n",
            "_________________________________________________________________\n",
            "block3_conv2 (Conv2D)        (None, 12, 12, 256)       590080    \n",
            "_________________________________________________________________\n",
            "block3_conv3 (Conv2D)        (None, 12, 12, 256)       590080    \n",
            "_________________________________________________________________\n",
            "block3_pool (MaxPooling2D)   (None, 6, 6, 256)         0         \n",
            "_________________________________________________________________\n",
            "block4_conv1 (Conv2D)        (None, 6, 6, 512)         1180160   \n",
            "_________________________________________________________________\n",
            "block4_conv2 (Conv2D)        (None, 6, 6, 512)         2359808   \n",
            "_________________________________________________________________\n",
            "block4_conv3 (Conv2D)        (None, 6, 6, 512)         2359808   \n",
            "_________________________________________________________________\n",
            "block4_pool (MaxPooling2D)   (None, 3, 3, 512)         0         \n",
            "_________________________________________________________________\n",
            "block5_conv1 (Conv2D)        (None, 3, 3, 512)         2359808   \n",
            "_________________________________________________________________\n",
            "block5_conv2 (Conv2D)        (None, 3, 3, 512)         2359808   \n",
            "_________________________________________________________________\n",
            "block5_conv3 (Conv2D)        (None, 3, 3, 512)         2359808   \n",
            "_________________________________________________________________\n",
            "block5_pool (MaxPooling2D)   (None, 1, 1, 512)         0         \n",
            "_________________________________________________________________\n",
            "global_average_pooling2d (Gl (None, 512)               0         \n",
            "_________________________________________________________________\n",
            "flatten (Flatten)            (None, 512)               0         \n",
            "_________________________________________________________________\n",
            "dense (Dense)                (None, 1024)              525312    \n",
            "_________________________________________________________________\n",
            "dropout (Dropout)            (None, 1024)              0         \n",
            "_________________________________________________________________\n",
            "dense_1 (Dense)              (None, 1024)              1049600   \n",
            "_________________________________________________________________\n",
            "dense_2 (Dense)              (None, 7)                 7175      \n",
            "=================================================================\n",
            "Total params: 16,296,775\n",
            "Trainable params: 16,296,775\n",
            "Non-trainable params: 0\n",
            "_________________________________________________________________\n"
          ],
          "name": "stdout"
        }
      ]
    }
  ]
}